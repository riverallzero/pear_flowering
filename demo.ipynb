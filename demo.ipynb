{
  "nbformat": 4,
  "nbformat_minor": 0,
  "metadata": {
    "colab": {
      "provenance": []
    },
    "kernelspec": {
      "name": "python3",
      "display_name": "Python 3"
    },
    "language_info": {
      "name": "python"
    }
  },
  "cells": [
    {
      "cell_type": "markdown",
      "source": [
        "# 패키지 다운로드"
      ],
      "metadata": {
        "id": "_5EgxPmMJu2L"
      }
    },
    {
      "cell_type": "code",
      "execution_count": 1,
      "metadata": {
        "colab": {
          "base_uri": "https://localhost:8080/"
        },
        "id": "Z7A5bLqMJk52",
        "outputId": "6094126b-f40e-49ca-b446-53b0742cc872"
      },
      "outputs": [
        {
          "output_type": "stream",
          "name": "stdout",
          "text": [
            "Collecting git+https://github.com/riverallzero/pear_flowering.git\n",
            "  Cloning https://github.com/riverallzero/pear_flowering.git to /tmp/pip-req-build-vrmc6v6v\n",
            "  Running command git clone --filter=blob:none --quiet https://github.com/riverallzero/pear_flowering.git /tmp/pip-req-build-vrmc6v6v\n",
            "  Resolved https://github.com/riverallzero/pear_flowering.git to commit 0f391834a461b64f2b254a13cda7e87eb576e22f\n",
            "  Preparing metadata (setup.py) ... \u001b[?25l\u001b[?25hdone\n",
            "Requirement already satisfied: pandas in /usr/local/lib/python3.10/dist-packages (from pear-flowering==0.2.0) (1.5.3)\n",
            "Requirement already satisfied: numpy in /usr/local/lib/python3.10/dist-packages (from pear-flowering==0.2.0) (1.23.5)\n",
            "Requirement already satisfied: requests in /usr/local/lib/python3.10/dist-packages (from pear-flowering==0.2.0) (2.31.0)\n",
            "Requirement already satisfied: python-dateutil>=2.8.1 in /usr/local/lib/python3.10/dist-packages (from pandas->pear-flowering==0.2.0) (2.8.2)\n",
            "Requirement already satisfied: pytz>=2020.1 in /usr/local/lib/python3.10/dist-packages (from pandas->pear-flowering==0.2.0) (2023.3.post1)\n",
            "Requirement already satisfied: charset-normalizer<4,>=2 in /usr/local/lib/python3.10/dist-packages (from requests->pear-flowering==0.2.0) (3.3.2)\n",
            "Requirement already satisfied: idna<4,>=2.5 in /usr/local/lib/python3.10/dist-packages (from requests->pear-flowering==0.2.0) (3.6)\n",
            "Requirement already satisfied: urllib3<3,>=1.21.1 in /usr/local/lib/python3.10/dist-packages (from requests->pear-flowering==0.2.0) (2.0.7)\n",
            "Requirement already satisfied: certifi>=2017.4.17 in /usr/local/lib/python3.10/dist-packages (from requests->pear-flowering==0.2.0) (2023.11.17)\n",
            "Requirement already satisfied: six>=1.5 in /usr/local/lib/python3.10/dist-packages (from python-dateutil>=2.8.1->pandas->pear-flowering==0.2.0) (1.16.0)\n",
            "Building wheels for collected packages: pear-flowering\n",
            "  Building wheel for pear-flowering (setup.py) ... \u001b[?25l\u001b[?25hdone\n",
            "  Created wheel for pear-flowering: filename=pear_flowering-0.2.0-py3-none-any.whl size=4853 sha256=6155d0897e31ca3d51ab48ab034c4c91cd7e164092aba81459ca1ecae1cb06bf\n",
            "  Stored in directory: /tmp/pip-ephem-wheel-cache-rv9xo2pz/wheels/d0/5f/ef/6623347d4953d782f8decf9dafc83430e8b65c4295090e9745\n",
            "Successfully built pear-flowering\n",
            "Installing collected packages: pear-flowering\n",
            "Successfully installed pear-flowering-0.2.0\n"
          ]
        }
      ],
      "source": [
        "!pip install git+https://github.com/riverallzero/pear_flowering.git"
      ]
    },
    {
      "cell_type": "markdown",
      "source": [
        "# 라이브러리 호출"
      ],
      "metadata": {
        "id": "ithUbpF3Jw3T"
      }
    },
    {
      "cell_type": "code",
      "source": [
        "from pear_flowering import location, dvr, mdvr, cd"
      ],
      "metadata": {
        "id": "BUlgArkjJoRV"
      },
      "execution_count": 2,
      "outputs": []
    },
    {
      "cell_type": "markdown",
      "source": [
        "## 지역번호 검색"
      ],
      "metadata": {
        "id": "WHu_929VJyEa"
      }
    },
    {
      "cell_type": "code",
      "source": [
        "year = 2023\n",
        "loc = location(\"전주\")\n",
        "\n",
        "print(loc)"
      ],
      "metadata": {
        "colab": {
          "base_uri": "https://localhost:8080/"
        },
        "id": "3mNEXWMRJq2t",
        "outputId": "d63fb139-6e88-4b68-95c3-bb3b6c95fe69"
      },
      "execution_count": 7,
      "outputs": [
        {
          "output_type": "stream",
          "name": "stdout",
          "text": [
            "146\n"
          ]
        }
      ]
    },
    {
      "cell_type": "markdown",
      "source": [
        "## 개화일 계산"
      ],
      "metadata": {
        "id": "J4ZPvaeWJzO1"
      }
    },
    {
      "cell_type": "code",
      "source": [
        "dvr_result = dvr(year, loc)\n",
        "mdvr_result = mdvr(year, loc)\n",
        "cd_result = cd(year, loc)\n",
        "\n",
        "print(f\"DVR: {dvr_result}, mDVR: {mdvr_result}, CD: {cd_result}\")"
      ],
      "metadata": {
        "colab": {
          "base_uri": "https://localhost:8080/"
        },
        "id": "PJ-hDTO7Jphy",
        "outputId": "b615be33-e837-468a-ceff-1fbd07919c23"
      },
      "execution_count": 6,
      "outputs": [
        {
          "output_type": "stream",
          "name": "stdout",
          "text": [
            "DVR: 2023-4-2, mDVR: 2023-4-6, CD: 2023-4-5\n"
          ]
        }
      ]
    }
  ]
}